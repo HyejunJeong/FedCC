{
 "cells": [
  {
   "cell_type": "markdown",
   "id": "f5ff8712-121e-4c55-9b57-eb317f36a195",
   "metadata": {
    "tags": []
   },
   "source": [
    "## Plan\n",
    "\n",
    "- [x] FL base framework\n",
    "- [x] implement non-iid sampling function following dirichlet dist\n",
    "\n",
    "#### Attack simulation\n",
    "- [x] untargeted model poisoning\n",
    "    - Local model poisoning attacks to Byzantine-robust federated learning <br>\n",
    "    https://github.com/vrt1shjwlkr/NDSS21-Model-Poisoning fang attack <br>\n",
    "    krum-attack, trimmed-mean/median attack\n",
    "- [x] targeted model poisoning\n",
    "    - Analyzing federated learning through an adversarial lens <br>\n",
    "    https://github.com/inspire-group/ModelPoisoning\n",
    "- [x] data poisoning\n",
    "    - DBA: Distributed backdoor attacks against federated learning <br>\n",
    "    https://github.com/AI-secure/DBA\n",
    "    \n",
    "#### Defense baseline\n",
    "- [x] FedAvg\n",
    "- [x] Krum\n",
    "- [x] Multi-Krum\n",
    "- [x] Bulyan\n",
    "- [x] Coordinate median\n",
    "- [x] FLARE\n",
    "\n",
    "#### Proposed method\n",
    "- [x] extract PLRs\n",
    "- [x] apply RBF hypersphere CKA"
   ]
  },
  {
   "cell_type": "code",
   "execution_count": 1,
   "id": "e97834e9-666d-4e4a-a15e-332181ee70bb",
   "metadata": {},
   "outputs": [
    {
     "data": {
      "text/html": [
       "<style>.container { width:90% !important; }</style>"
      ],
      "text/plain": [
       "<IPython.core.display.HTML object>"
      ]
     },
     "metadata": {},
     "output_type": "display_data"
    }
   ],
   "source": [
    "from IPython.display import display, HTML\n",
    "display(HTML(\"<style>.container { width:90% !important; }</style>\"))"
   ]
  },
  {
   "cell_type": "code",
   "execution_count": 2,
   "id": "c3e5affa-9f28-4dad-99af-52f285107603",
   "metadata": {},
   "outputs": [],
   "source": [
    "#!/usr/bin/env python\n",
    "# -*- coding: utf-8 -*-\n",
    "# Python version: 3.6\n",
    "\n",
    "\n",
    "import os\n",
    "os.environ[\"KMP_DUPLICATE_LIB_OK\"]=\"TRUE\"\n",
    "import copy\n",
    "import time\n",
    "import pickle\n",
    "import numpy as np\n",
    "from tqdm import tqdm\n",
    "from collections import OrderedDict\n",
    "\n",
    "import torch\n",
    "from tensorboardX import SummaryWriter\n",
    "\n",
    "from options import args_parser\n",
    "from update import LocalUpdate, test_inference, mal_inference\n",
    "from models import MLP, CNNMnist, CNNFashion_Mnist, CNNCifar, Alexnet, modelC, LeNet5\n",
    "from utils import get_dataset, get_mal_dataset, exp_details, flatten, construct_ordered_dict\n",
    "from aggregate import fedavg, multi_krum, krum, coomed, bulyan, tr_mean, fed_align, fed_cc, flare, fltrust\n",
    "from attacks import get_malicious_updates_untargeted_mkrum, get_malicious_updates_untargeted_med, get_malicious_updates_targeted\n",
    "from cka import linear_CKA, kernel_CKA\n",
    "# python src/federated_main.py --model=cnn --dataset=cifar --gpu=0 --iid=1 --epochs=10\n",
    "\n",
    "import warnings\n",
    "# warnings.filterwarnings('ignore')"
   ]
  },
  {
   "cell_type": "markdown",
   "id": "79d5ee40-5071-437b-bc8e-35135865c450",
   "metadata": {},
   "source": [
    "# Targeted Model Poisoning Attack (label flipping)"
   ]
  },
  {
   "cell_type": "code",
   "execution_count": 3,
   "id": "cea6ac2c-32ca-417f-90fb-f5b58b7ad1ec",
   "metadata": {},
   "outputs": [],
   "source": [
    "class Args(object):\n",
    "    \n",
    "    # federated parameters (default values are set)\n",
    "    epochs = 20\n",
    "    num_users = 10\n",
    "    frac = 1 # fraction of clients\n",
    "    local_ep = 3 # num of local epoch\n",
    "    local_bs = 100 # batch size\n",
    "    lr = 0.001\n",
    "    momentum = 0.9\n",
    "    aggregation = 'mkrum' # fedavg, krum, mkrum, coomed, bulyan, flare, fedcc\n",
    "    \n",
    "    # model arguments\n",
    "    model = 'cnn'\n",
    "    kernel_num = 9 # num of each kind of kernel\n",
    "    kernel_sizes = '3,4,5' # comma-separated kernel size to use for convolution\n",
    "    norm = 'batch_norm' # batch_norm, layer_norm, None\n",
    "    num_filters = 32 # num of filters for conv nets -- 32 for mini-imagenet, 64 for omiglot\n",
    "    max_pool = 'True' # whether use max pooling rather than strided convolutions\n",
    "    \n",
    "    # other arguments\n",
    "    dataset = 'cifar100' # fmnist, cifar, mnist\n",
    "    if dataset == 'cifar100':\n",
    "        num_classes = 100 \n",
    "        num_channels = 3 # num of channels of imgs\n",
    "    else:\n",
    "        num_classes = 10\n",
    "        num_channels = 1\n",
    "    \n",
    "    gpu = 0\n",
    "    optimizer = 'adam'\n",
    "    iid = 0# 0 for non-iid\n",
    "    alpha = 0.2 # noniid --> (0, 1] <-- iid\n",
    "    unequal = 0 # whether to use unequal data splits for non-iid settings (0 for equal splits)\n",
    "    stopping_rounds = 10 # rounds of early stopping\n",
    "    verbose = 0\n",
    "    seed = 1\n",
    "\n",
    "    # malicious arguments\n",
    "    mal_clients = [] # [0, 1] # indices of malicious user\n",
    "    attack_type = 'targeted' # targeted\n",
    "    num_mal = 1 # number of maliciuos data sample\n",
    "    local_mal_ep = 6\n",
    "    boost = 5 # alpha: 2 for fedavg, 3.5 for krum\n",
    "    mal_bs = 100\n",
    "#     # malicious arguments\n",
    "#     mal_clients = [9] # indices of malicious user\n",
    "#     attack_type = 'targeted' # targeted\n",
    "#     num_mal = 1 # number of maliciuos data sample\n",
    "#     local_mal_ep = 6\n",
    "#     boost = 5 # alpha: 2 for fedavg, 3.5 for krum"
   ]
  },
  {
   "cell_type": "code",
   "execution_count": 4,
   "id": "0462f137-23d4-4d56-8de6-1012b0181ca7",
   "metadata": {
    "tags": []
   },
   "outputs": [
    {
     "name": "stdout",
     "output_type": "stream",
     "text": [
      "\n",
      "Experimental details:\n",
      "    Model     : cnn\n",
      "    Optimizer : adam\n",
      "    Learning  : 0.001\n",
      "    Aggregation     : mkrum\n",
      "    Global Rounds   : 20\n",
      "\n",
      "    Federated parameters:\n",
      "    Non-IID              : 0.2\n",
      "    Fraction of users    : 1\n",
      "    Local Batch size     : 100\n",
      "    Local Epochs         : 3\n",
      "\n",
      "Files already downloaded and verified\n",
      "Files already downloaded and verified\n",
      "LeNet5(\n",
      "  (conv1): Conv2d(3, 6, kernel_size=(5, 5), stride=(1, 1))\n",
      "  (pool): MaxPool2d(kernel_size=2, stride=2, padding=0, dilation=1, ceil_mode=False)\n",
      "  (conv2): Conv2d(6, 16, kernel_size=(5, 5), stride=(1, 1))\n",
      "  (fc1): Linear(in_features=44944, out_features=120, bias=True)\n",
      "  (fc2): Linear(in_features=120, out_features=84, bias=True)\n",
      "  (fc3): Linear(in_features=84, out_features=100, bias=True)\n",
      ")\n"
     ]
    },
    {
     "name": "stderr",
     "output_type": "stream",
     "text": [
      "  0%|          | 0/20 [00:00<?, ?it/s]"
     ]
    },
    {
     "name": "stdout",
     "output_type": "stream",
     "text": [
      "=========================================\n",
      "| Global Training Round : 1 |\n",
      "=========================================\n"
     ]
    },
    {
     "name": "stderr",
     "output_type": "stream",
     "text": [
      "/home/hjeong_umass_edu/.conda/envs/torchgpu/lib/python3.8/site-packages/torch/nn/modules/conv.py:456: UserWarning: Applied workaround for CuDNN issue, install nvrtc.so (Triggered internally at ../aten/src/ATen/native/cudnn/Conv_v8.cpp:80.)\n",
      "  return F.conv2d(input, weight, bias, self.stride,\n"
     ]
    },
    {
     "name": "stdout",
     "output_type": "stream",
     "text": [
      "user 0, loss 2.6454838429782406, acc 7.093425605536333\n",
      "user 1, loss 2.8241361840566, acc 0.0\n",
      "user 2, loss 2.7797121123888004, acc 1.3301088270858523\n",
      "user 3, loss 2.4454901073037125, acc 11.332007952286283\n",
      "user 4, loss 2.654598668564198, acc 0.0\n",
      "user 5, loss 2.80490935643514, acc 0.0\n",
      "user 6, loss 3.1030106518003677, acc 0.0\n",
      "user 7, loss 2.287781095504761, acc 0.0\n",
      "user 8, loss 2.955603975875705, acc 15.80188679245283\n",
      "user 9, loss 2.9837173437460875, acc 0.1545595054095827\n",
      "multiKrum Selected idxs: [6 2 8 9 0 3 1 5 4 7]\n",
      " \n",
      "Avg Training Stats after 1 global rounds:\n",
      "Training Loss : 2.7484443338653612\n"
     ]
    },
    {
     "name": "stderr",
     "output_type": "stream",
     "text": [
      "  5%|▌         | 1/20 [03:22<1:04:00, 202.13s/it]"
     ]
    },
    {
     "name": "stdout",
     "output_type": "stream",
     "text": [
      "\n",
      "Global model Benign Test Accuracy: 3.28% \n",
      "=========================================\n",
      "| Global Training Round : 2 |\n",
      "=========================================\n",
      "user 0, loss 2.4286348388550127, acc 4.498269896193772\n",
      "user 1, loss 2.5768976815541587, acc 0.0\n",
      "user 2, loss 2.6502741533725414, acc 0.24183796856106407\n",
      "user 3, loss 2.2448510765060177, acc 11.928429423459244\n",
      "user 4, loss 2.501607908759006, acc 0.0\n",
      "user 5, loss 2.6162464181582132, acc 0.0\n",
      "user 6, loss 2.799733050664266, acc 0.0\n",
      "user 7, loss 2.082857126281375, acc 0.0\n",
      "user 8, loss 2.7525067282658, acc 16.037735849056602\n",
      "user 9, loss 2.784083386262258, acc 2.627511591962906\n",
      "multiKrum Selected idxs: [6 2 8 0 9 3 1 5 4 7]\n",
      " \n",
      "Avg Training Stats after 2 global rounds:\n",
      "Training Loss : 2.646106785366613\n"
     ]
    },
    {
     "name": "stderr",
     "output_type": "stream",
     "text": [
      " 10%|█         | 2/20 [06:42<1:00:14, 200.82s/it]"
     ]
    },
    {
     "name": "stdout",
     "output_type": "stream",
     "text": [
      "\n",
      "Global model Benign Test Accuracy: 6.70% \n",
      "=========================================\n",
      "| Global Training Round : 3 |\n",
      "=========================================\n",
      "user 0, loss 2.2895939705219672, acc 9.515570934256056\n",
      "user 1, loss 2.431288064320882, acc 0.0\n",
      "user 2, loss 2.5692825507168746, acc 0.24183796856106407\n",
      "user 3, loss 2.129957584830804, acc 13.320079522862823\n",
      "user 4, loss 2.4308186390603237, acc 0.0\n",
      "user 5, loss 2.494080381923252, acc 0.0\n",
      "user 6, loss 2.6269280142254297, acc 0.0\n",
      "user 7, loss 2.003149074599856, acc 0.0\n",
      "user 8, loss 2.5689720207569646, acc 11.084905660377359\n",
      "user 9, loss 2.63196118367024, acc 1.2364760432766615\n",
      "multiKrum Selected idxs: [6 2 8 0 9 3 1 5 4 7]\n",
      " \n",
      "Avg Training Stats after 3 global rounds:\n",
      "Training Loss : 2.5699389063986287\n"
     ]
    },
    {
     "name": "stderr",
     "output_type": "stream",
     "text": [
      " 15%|█▌        | 3/20 [10:01<56:44, 200.26s/it]  "
     ]
    },
    {
     "name": "stdout",
     "output_type": "stream",
     "text": [
      "\n",
      "Global model Benign Test Accuracy: 8.54% \n",
      "=========================================\n",
      "| Global Training Round : 4 |\n",
      "=========================================\n",
      "user 0, loss 2.17378135860389, acc 10.899653979238755\n",
      "user 1, loss 2.263401951789856, acc 0.0\n",
      "user 2, loss 2.4736968373777852, acc 0.0\n",
      "user 3, loss 2.0318044065459957, acc 12.127236580516898\n",
      "user 4, loss 2.3004258085590923, acc 0.0\n",
      "user 5, loss 2.358251106739044, acc 0.0\n",
      "user 6, loss 2.4621382143762376, acc 0.0\n",
      "user 7, loss 1.872765496798924, acc 0.0\n",
      "user 8, loss 2.4837183905582805, acc 21.22641509433962\n",
      "user 9, loss 2.524475759420639, acc 0.0\n",
      "multiKrum Selected idxs: [6 2 8 0 9 3 1 5 4 7]\n",
      " \n",
      "Avg Training Stats after 4 global rounds:\n",
      "Training Loss : 2.501065663068215\n"
     ]
    },
    {
     "name": "stderr",
     "output_type": "stream",
     "text": [
      " 20%|██        | 4/20 [13:27<54:01, 202.57s/it]"
     ]
    },
    {
     "name": "stdout",
     "output_type": "stream",
     "text": [
      "\n",
      "Global model Benign Test Accuracy: 10.10% \n",
      "=========================================\n",
      "| Global Training Round : 5 |\n",
      "=========================================\n",
      "user 0, loss 2.0534244361498675, acc 4.1522491349480966\n",
      "user 1, loss 2.172685128847758, acc 0.0\n",
      "user 2, loss 2.3890289590133365, acc 2.418379685610641\n",
      "user 3, loss 1.911665696438735, acc 10.536779324055665\n",
      "user 4, loss 2.181071777676427, acc 0.0\n",
      "user 5, loss 2.2704268018404643, acc 0.0\n",
      "user 6, loss 2.3691081788804795, acc 0.0\n",
      "user 7, loss 1.764766460373288, acc 0.0\n",
      "user 8, loss 2.3874406908072676, acc 10.141509433962264\n",
      "user 9, loss 2.4040499130884805, acc 0.7727975270479135\n",
      "multiKrum Selected idxs: [6 2 8 0 9 3 1 5 4 7]\n",
      " \n",
      "Avg Training Stats after 5 global rounds:\n",
      "Training Loss : 2.4389258913168943\n"
     ]
    },
    {
     "name": "stderr",
     "output_type": "stream",
     "text": [
      " 25%|██▌       | 5/20 [16:39<49:40, 198.68s/it]"
     ]
    },
    {
     "name": "stdout",
     "output_type": "stream",
     "text": [
      "\n",
      "Global model Benign Test Accuracy: 11.82% \n",
      "=========================================\n",
      "| Global Training Round : 6 |\n",
      "=========================================\n",
      "user 0, loss 1.9331106733768546, acc 8.304498269896193\n",
      "user 1, loss 1.988613551457723, acc 0.0\n",
      "user 2, loss 2.2792116118900814, acc 1.3301088270858523\n",
      "user 3, loss 1.7714294931752894, acc 11.133200795228628\n",
      "user 4, loss 2.031436973763991, acc 0.0\n",
      "user 5, loss 2.0844194730122885, acc 0.0\n",
      "user 6, loss 2.262009114689297, acc 0.0\n",
      "user 7, loss 1.6548420883360364, acc 0.0\n",
      "user 8, loss 2.2104572478462665, acc 18.160377358490564\n",
      "user 9, loss 2.2882583836714425, acc 0.3091190108191654\n",
      "multiKrum Selected idxs: [6 2 8 0 9 3 1 5 4 7]\n",
      " \n",
      "Avg Training Stats after 6 global rounds:\n",
      "Training Loss : 2.3741680529510663\n"
     ]
    },
    {
     "name": "stderr",
     "output_type": "stream",
     "text": [
      " 30%|███       | 6/20 [19:39<44:51, 192.24s/it]"
     ]
    },
    {
     "name": "stdout",
     "output_type": "stream",
     "text": [
      "\n",
      "Global model Benign Test Accuracy: 13.56% \n",
      "=========================================\n",
      "| Global Training Round : 7 |\n",
      "=========================================\n",
      "user 0, loss 1.7926878497955645, acc 7.7854671280276815\n",
      "user 1, loss 1.8201861492792766, acc 0.0\n",
      "user 2, loss 2.149749533453984, acc 0.8464328899637243\n",
      "user 3, loss 1.6636722892280515, acc 12.127236580516898\n",
      "user 4, loss 1.9106430194174593, acc 0.0\n",
      "user 5, loss 1.9889627668592667, acc 0.5420054200542005\n",
      "user 6, loss 2.008071494102478, acc 0.0\n",
      "user 7, loss 1.597279777980986, acc 0.0\n",
      "user 8, loss 2.0233379099883284, acc 5.89622641509434\n",
      "user 9, loss 2.1125359191344333, acc 0.6182380216383307\n",
      "multiKrum Selected idxs: [6 2 8 0 9 3 1 5 4 7]\n",
      " \n",
      "Avg Training Stats after 7 global rounds:\n",
      "Training Loss : 2.3073887126614827\n"
     ]
    },
    {
     "name": "stderr",
     "output_type": "stream",
     "text": [
      " 35%|███▌      | 7/20 [22:41<40:57, 189.03s/it]"
     ]
    },
    {
     "name": "stdout",
     "output_type": "stream",
     "text": [
      "\n",
      "Global model Benign Test Accuracy: 15.06% \n",
      "=========================================\n",
      "| Global Training Round : 8 |\n",
      "=========================================\n",
      "user 0, loss 1.6775741780057867, acc 9.16955017301038\n",
      "user 1, loss 1.6552832277615863, acc 0.0\n",
      "user 2, loss 2.030680894851684, acc 2.418379685610641\n",
      "user 3, loss 1.5298382305517428, acc 10.337972166998012\n",
      "user 4, loss 1.767586160075757, acc 0.0\n",
      "user 5, loss 1.8221624930699667, acc 0.5420054200542005\n",
      "user 6, loss 1.8122873862584432, acc 1.0723860589812333\n",
      "user 7, loss 1.4148071203913009, acc 0.0\n",
      "user 8, loss 1.9112083491157084, acc 7.547169811320755\n",
      "user 9, loss 2.0073463702813172, acc 0.46367851622874806\n",
      "multiKrum Selected idxs: [6 2 8 0 9 3 1 5 4 7]\n",
      " \n",
      "Avg Training Stats after 8 global rounds:\n",
      "Training Loss : 2.239324803708339\n"
     ]
    },
    {
     "name": "stderr",
     "output_type": "stream",
     "text": [
      " 40%|████      | 8/20 [25:43<37:22, 186.89s/it]"
     ]
    },
    {
     "name": "stdout",
     "output_type": "stream",
     "text": [
      "\n",
      "Global model Benign Test Accuracy: 15.89% \n",
      "=========================================\n",
      "| Global Training Round : 9 |\n",
      "=========================================\n",
      "user 0, loss 1.5293947158130348, acc 8.131487889273355\n",
      "user 1, loss 1.4851716454823813, acc 0.0\n",
      "user 2, loss 1.910918689485806, acc 2.902055622732769\n",
      "user 3, loss 1.4656928016887447, acc 8.747514910536779\n",
      "user 4, loss 1.6434218938960583, acc 0.1869158878504673\n",
      "user 5, loss 1.690201152033276, acc 0.27100271002710025\n",
      "user 6, loss 1.6946443458398182, acc 0.2680965147453083\n",
      "user 7, loss 1.3007172947838193, acc 0.0\n",
      "user 8, loss 1.794833209000382, acc 16.50943396226415\n",
      "user 9, loss 1.8293952032541616, acc 0.9273570324574961\n",
      "multiKrum Selected idxs: [6 2 8 0 9 3 1 5 4 7]\n",
      " \n",
      "Avg Training Stats after 9 global rounds:\n",
      "Training Loss : 2.1721152805327177\n"
     ]
    },
    {
     "name": "stderr",
     "output_type": "stream",
     "text": [
      " 45%|████▌     | 9/20 [28:50<34:14, 186.73s/it]"
     ]
    },
    {
     "name": "stdout",
     "output_type": "stream",
     "text": [
      "\n",
      "Global model Benign Test Accuracy: 15.59% \n",
      "=========================================\n",
      "| Global Training Round : 10 |\n",
      "=========================================\n",
      "user 0, loss 1.4822431785840513, acc 8.996539792387544\n",
      "user 1, loss 1.4167448004086811, acc 0.0\n",
      "user 2, loss 1.8382747108070412, acc 0.24183796856106407\n",
      "user 3, loss 1.330954663152617, acc 11.928429423459244\n",
      "user 4, loss 1.5557287298431692, acc 0.0\n",
      "user 5, loss 1.5789227975739373, acc 0.0\n",
      "user 6, loss 1.614554152223799, acc 0.8042895442359249\n",
      "user 7, loss 1.2261681590761457, acc 0.0\n",
      "user 8, loss 1.6328967272066606, acc 9.19811320754717\n",
      "user 9, loss 1.7457181983269177, acc 5.7187017001545595\n",
      "multiKrum Selected idxs: [6 2 8 0 9 3 1 5 4 7]\n",
      " \n",
      "Avg Training Stats after 10 global rounds:\n",
      "Training Loss : 2.1091258136514766\n"
     ]
    },
    {
     "name": "stderr",
     "output_type": "stream",
     "text": [
      " 50%|█████     | 10/20 [31:50<30:48, 184.81s/it]"
     ]
    },
    {
     "name": "stdout",
     "output_type": "stream",
     "text": [
      "\n",
      "Global model Benign Test Accuracy: 16.48% \n",
      "=========================================\n",
      "| Global Training Round : 11 |\n",
      "=========================================\n",
      "user 0, loss 1.3943034900841138, acc 7.26643598615917\n",
      "user 1, loss 1.3328138701121013, acc 0.0\n",
      "user 2, loss 1.7218254866884715, acc 0.24183796856106407\n",
      "user 3, loss 1.2317355488373982, acc 10.337972166998012\n",
      "user 4, loss 1.4464314510655958, acc 0.0\n",
      "user 5, loss 1.4652666012446085, acc 1.084010840108401\n",
      "user 6, loss 1.4874672340022193, acc 1.0723860589812333\n",
      "user 7, loss 1.171447058234896, acc 0.0\n",
      "user 8, loss 1.5405147075653076, acc 6.367924528301887\n",
      "user 9, loss 1.6663140902916591, acc 0.7727975270479135\n",
      "multiKrum Selected idxs: [6 2 8 0 9 3 1 5 4 7]\n",
      " \n",
      "Avg Training Stats after 11 global rounds:\n",
      "Training Loss : 2.0488245536661274\n"
     ]
    },
    {
     "name": "stderr",
     "output_type": "stream",
     "text": [
      " 55%|█████▌    | 11/20 [34:51<27:31, 183.48s/it]"
     ]
    },
    {
     "name": "stdout",
     "output_type": "stream",
     "text": [
      "\n",
      "Global model Benign Test Accuracy: 16.81% \n",
      "=========================================\n",
      "| Global Training Round : 12 |\n",
      "=========================================\n",
      "user 0, loss 1.2933471342350573, acc 8.650519031141869\n",
      "user 1, loss 1.2292601462205253, acc 0.0\n",
      "user 2, loss 1.6638749075766226, acc 1.4510278113663846\n",
      "user 3, loss 1.1881630551524278, acc 8.34990059642147\n",
      "user 4, loss 1.3980302935422853, acc 0.1869158878504673\n",
      "user 5, loss 1.3944020436869726, acc 2.168021680216802\n",
      "user 6, loss 1.4161538130707212, acc 2.4128686327077746\n",
      "user 7, loss 1.0977824775945573, acc 0.0\n",
      "user 8, loss 1.4870813518178227, acc 5.89622641509434\n",
      "user 9, loss 1.5914152073554504, acc 1.2364760432766615\n",
      "multiKrum Selected idxs: [6 2 0 8 9 1 3 5 4 7]\n",
      " \n",
      "Avg Training Stats after 12 global rounds:\n",
      "Training Loss : 1.9927517611127203\n"
     ]
    },
    {
     "name": "stderr",
     "output_type": "stream",
     "text": [
      " 60%|██████    | 12/20 [37:55<24:30, 183.81s/it]"
     ]
    },
    {
     "name": "stdout",
     "output_type": "stream",
     "text": [
      "\n",
      "Global model Benign Test Accuracy: 16.52% \n",
      "=========================================\n",
      "| Global Training Round : 13 |\n",
      "=========================================\n",
      "user 0, loss 1.2520190111711516, acc 4.844290657439446\n",
      "user 1, loss 1.148510154883067, acc 0.0\n",
      "user 2, loss 1.600243238963891, acc 0.9673518742442563\n",
      "user 3, loss 1.1327580540645414, acc 13.12127236580517\n",
      "user 4, loss 1.3207472779954126, acc 0.0\n",
      "user 5, loss 1.3349793036778765, acc 1.3550135501355014\n",
      "user 6, loss 1.3345040215386283, acc 0.2680965147453083\n",
      "user 7, loss 1.0459097700459616, acc 0.0\n",
      "user 8, loss 1.4304548653901792, acc 7.0754716981132075\n",
      "user 9, loss 1.5233307228638575, acc 1.3910355486862442\n",
      "multiKrum Selected idxs: [6 2 0 8 9 1 3 5 4 7]\n",
      " \n",
      "Avg Training Stats after 13 global rounds:\n",
      "Training Loss : 1.9404128288778537\n"
     ]
    },
    {
     "name": "stderr",
     "output_type": "stream",
     "text": [
      " 65%|██████▌   | 13/20 [40:53<21:13, 181.93s/it]"
     ]
    },
    {
     "name": "stdout",
     "output_type": "stream",
     "text": [
      "\n",
      "Global model Benign Test Accuracy: 16.66% \n",
      "=========================================\n",
      "| Global Training Round : 14 |\n",
      "=========================================\n",
      "user 0, loss 1.238583375376167, acc 8.650519031141869\n",
      "user 1, loss 1.1366921472549436, acc 0.0\n",
      "user 2, loss 1.5199610762928255, acc 0.12091898428053204\n",
      "user 3, loss 1.0985616472193864, acc 11.530815109343937\n",
      "user 4, loss 1.2476578535035598, acc 0.0\n",
      "user 5, loss 1.2781411565012404, acc 0.0\n",
      "user 6, loss 1.2932221906052694, acc 1.0723860589812333\n",
      "user 7, loss 0.982609049195335, acc 0.0\n",
      "user 8, loss 1.3186394692051644, acc 9.433962264150944\n",
      "user 9, loss 1.4457776798651771, acc 1.2364760432766615\n",
      "multiKrum Selected idxs: [6 2 0 8 9 1 3 5 4 7]\n",
      " \n",
      "Avg Training Stats after 14 global rounds:\n",
      "Training Loss : 1.8915250957081433\n"
     ]
    },
    {
     "name": "stderr",
     "output_type": "stream",
     "text": [
      " 70%|███████   | 14/20 [43:51<18:03, 180.64s/it]"
     ]
    },
    {
     "name": "stdout",
     "output_type": "stream",
     "text": [
      "\n",
      "Global model Benign Test Accuracy: 17.08% \n",
      "=========================================\n",
      "| Global Training Round : 15 |\n",
      "=========================================\n",
      "user 0, loss 1.156867948406977, acc 8.304498269896193\n",
      "user 1, loss 1.073787193695704, acc 0.0\n",
      "user 2, loss 1.4838322949646718, acc 0.48367593712212814\n",
      "user 3, loss 1.0344842485780639, acc 10.337972166998012\n",
      "user 4, loss 1.2126162906949836, acc 1.3084112149532712\n",
      "user 5, loss 1.2265687505404155, acc 1.3550135501355014\n",
      "user 6, loss 1.1987843811511993, acc 4.021447721179625\n",
      "user 7, loss 0.9953395162309918, acc 0.0\n",
      "user 8, loss 1.2651406652202792, acc 17.452830188679243\n",
      "user 9, loss 1.4023427267869313, acc 1.2364760432766615\n",
      "multiKrum Selected idxs: [6 2 0 8 9 1 3 5 4 7]\n",
      " \n",
      "Avg Training Stats after 15 global rounds:\n",
      "Training Loss : 1.8457551827694019\n"
     ]
    },
    {
     "name": "stderr",
     "output_type": "stream",
     "text": [
      " 75%|███████▌  | 15/20 [46:53<15:06, 181.28s/it]"
     ]
    },
    {
     "name": "stdout",
     "output_type": "stream",
     "text": [
      "\n",
      "Global model Benign Test Accuracy: 16.37% \n",
      "=========================================\n",
      "| Global Training Round : 16 |\n",
      "=========================================\n",
      "user 0, loss 1.1309033317346098, acc 7.439446366782007\n",
      "user 1, loss 1.0875341109434764, acc 0.0\n",
      "user 2, loss 1.4090888847166034, acc 1.2091898428053205\n",
      "user 3, loss 1.0290186405181885, acc 10.139165009940358\n",
      "user 4, loss 1.1732082542522935, acc 0.0\n",
      "user 5, loss 1.1659434378147124, acc 0.8130081300813009\n",
      "user 6, loss 1.2123156633641985, acc 0.8042895442359249\n",
      "user 7, loss 0.9102335374979744, acc 0.0\n",
      "user 8, loss 1.2847023761155558, acc 12.028301886792454\n",
      "user 9, loss 1.3960733650586545, acc 1.0819165378670788\n",
      "multiKrum Selected idxs: [6 2 0 8 1 9 3 5 4 7]\n",
      " \n",
      "Avg Training Stats after 16 global rounds:\n",
      "Training Loss : 1.8041393688589156\n"
     ]
    },
    {
     "name": "stderr",
     "output_type": "stream",
     "text": [
      " 80%|████████  | 16/20 [49:54<12:04, 181.21s/it]"
     ]
    },
    {
     "name": "stdout",
     "output_type": "stream",
     "text": [
      "\n",
      "Global model Benign Test Accuracy: 16.54% \n",
      "=========================================\n",
      "| Global Training Round : 17 |\n",
      "=========================================\n",
      "user 0, loss 1.1040363616131723, acc 10.899653979238755\n",
      "user 1, loss 0.9942176734407742, acc 0.0\n",
      "user 2, loss 1.3549756897029592, acc 0.24183796856106407\n",
      "user 3, loss 0.963502768578568, acc 8.151093439363818\n",
      "user 4, loss 1.1452245134715884, acc 0.7476635514018692\n",
      "user 5, loss 1.0928657299942441, acc 0.8130081300813009\n",
      "user 6, loss 1.1932536640101008, acc 4.289544235924933\n",
      "user 7, loss 0.8979203930922917, acc 0.0\n",
      "user 8, loss 1.1673795110454745, acc 9.669811320754718\n",
      "user 9, loss 1.3081670271662567, acc 2.472952086553323\n",
      "multiKrum Selected idxs: [6 2 0 8 1 9 3 5 4 7]\n",
      " \n",
      "Avg Training Stats after 17 global rounds:\n",
      "Training Loss : 1.764022602056129\n"
     ]
    },
    {
     "name": "stderr",
     "output_type": "stream",
     "text": [
      " 85%|████████▌ | 17/20 [53:00<09:07, 182.36s/it]"
     ]
    },
    {
     "name": "stdout",
     "output_type": "stream",
     "text": [
      "\n",
      "Global model Benign Test Accuracy: 16.63% \n",
      "=========================================\n",
      "| Global Training Round : 18 |\n",
      "=========================================\n",
      "user 0, loss 1.0111906839177964, acc 8.131487889273355\n",
      "user 1, loss 0.9605444240570069, acc 0.0\n",
      "user 2, loss 1.3205707811597567, acc 2.176541717049577\n",
      "user 3, loss 0.9553198785316654, acc 10.139165009940358\n",
      "user 4, loss 1.1070910073065943, acc 0.3738317757009346\n",
      "user 5, loss 1.115899352894889, acc 0.8130081300813009\n",
      "user 6, loss 1.1148349901040395, acc 1.876675603217158\n",
      "user 7, loss 0.8734757947070259, acc 0.0\n",
      "user 8, loss 1.1303747065511405, acc 10.141509433962264\n",
      "user 9, loss 1.2515067276664267, acc 0.3091190108191654\n",
      "multiKrum Selected idxs: [6 2 0 8 1 9 3 5 4 7]\n",
      " \n",
      "Avg Training Stats after 18 global rounds:\n",
      "Training Loss : 1.726248059424657\n"
     ]
    },
    {
     "name": "stderr",
     "output_type": "stream",
     "text": [
      " 90%|█████████ | 18/20 [56:03<06:05, 182.68s/it]"
     ]
    },
    {
     "name": "stdout",
     "output_type": "stream",
     "text": [
      "\n",
      "Global model Benign Test Accuracy: 16.67% \n",
      "=========================================\n",
      "| Global Training Round : 19 |\n",
      "=========================================\n",
      "user 0, loss 1.0117030291692586, acc 9.688581314878892\n",
      "user 1, loss 0.97279882868131, acc 0.0\n",
      "user 2, loss 1.2569524599841577, acc 0.48367593712212814\n",
      "user 3, loss 0.945445182725666, acc 7.75347912524851\n",
      "user 4, loss 1.0522669985774875, acc 0.3738317757009346\n",
      "user 5, loss 1.091092106865512, acc 2.710027100271003\n",
      "user 6, loss 1.10467133704159, acc 2.1447721179624666\n",
      "user 7, loss 0.8636173293704078, acc 0.0\n",
      "user 8, loss 1.1140717148196464, acc 10.377358490566039\n",
      "user 9, loss 1.2303908879940326, acc 2.1638330757341575\n",
      "multiKrum Selected idxs: [6 2 0 8 1 9 3 5 4 7]\n",
      " \n",
      "Avg Training Stats after 19 global rounds:\n",
      "Training Loss : 1.6914087398508806\n"
     ]
    },
    {
     "name": "stderr",
     "output_type": "stream",
     "text": [
      " 95%|█████████▌| 19/20 [59:07<03:03, 183.09s/it]"
     ]
    },
    {
     "name": "stdout",
     "output_type": "stream",
     "text": [
      "\n",
      "Global model Benign Test Accuracy: 16.76% \n",
      "=========================================\n",
      "| Global Training Round : 20 |\n",
      "=========================================\n",
      "user 0, loss 0.985046924851465, acc 6.5743944636678195\n",
      "user 1, loss 0.9330371860663096, acc 0.0\n",
      "user 2, loss 1.23987272085242, acc 0.48367593712212814\n",
      "user 3, loss 0.9167926273937148, acc 9.542743538767395\n",
      "user 4, loss 1.019479795943859, acc 0.1869158878504673\n",
      "user 5, loss 1.0385848263899484, acc 0.27100271002710025\n",
      "user 6, loss 1.040245761639542, acc 4.289544235924933\n",
      "user 7, loss 0.8533777397303354, acc 0.0\n",
      "user 8, loss 1.0910334622158724, acc 12.028301886792454\n",
      "user 9, loss 1.1936051029807482, acc 3.7094281298299845\n",
      "multiKrum Selected idxs: [6 2 0 8 1 9 3 5 4 7]\n",
      " \n",
      "Avg Training Stats after 20 global rounds:\n",
      "Training Loss : 1.6583936835986577\n"
     ]
    },
    {
     "name": "stderr",
     "output_type": "stream",
     "text": [
      "100%|██████████| 20/20 [1:01:26<00:00, 184.34s/it]"
     ]
    },
    {
     "name": "stdout",
     "output_type": "stream",
     "text": [
      "\n",
      "Global model Benign Test Accuracy: 16.44% \n"
     ]
    },
    {
     "name": "stderr",
     "output_type": "stream",
     "text": [
      "\n"
     ]
    },
    {
     "name": "stdout",
     "output_type": "stream",
     "text": [
      " \n",
      " Results after 20 global rounds of training:\n",
      "|---- Test Benign Accuracy: 16.44%\n",
      "\n",
      " Total Run Time: 3699.6150\n"
     ]
    }
   ],
   "source": [
    "\n",
    "if __name__ == '__main__':\n",
    "    start_time = time.time()\n",
    "\n",
    "    # define paths\n",
    "    path_project = os.path.abspath('..')\n",
    "    logger = SummaryWriter('../logs')\n",
    "\n",
    "    args = Args()\n",
    "    exp_details(args)\n",
    "\n",
    "    device = 'cuda:0' if args.gpu == 0 else 'cpu'\n",
    "    # device = 'cpu'\n",
    "    # for n_attacker in args.n_attackers:\n",
    "    torch.cuda.empty_cache()\n",
    "\n",
    "    # load dataset and user groups\n",
    "    train_dataset, test_dataset, user_groups = get_dataset(args)\n",
    "\n",
    "    # BUILD MODEL\n",
    "    if args.model == 'cnn':\n",
    "        # Convolutional neural netork\n",
    "        if args.dataset == 'mnist':\n",
    "            global_model = CNNMnist(args=args)\n",
    "        elif args.dataset == 'fmnist':\n",
    "            global_model = CNNFashion_Mnist(args=args)\n",
    "        elif args.dataset == 'cifar':\n",
    "            global_model = CNNCifar(args=args)\n",
    "        elif args.dataset == 'cifar100':\n",
    "            global_model = LeNet5(args=args)\n",
    "\n",
    "            \n",
    "    # elif args.model == 'alexnet':\n",
    "    #     if args.dataset == 'cifar100':\n",
    "    #         global_model = Alexnet(args=args)\n",
    "    \n",
    "    elif args.model == 'mlp':\n",
    "        # Multi-layer preceptron\n",
    "        img_size = train_dataset[0][0].shape\n",
    "        len_in = 1\n",
    "        for x in img_size:\n",
    "            len_in *= x\n",
    "            global_model = MLP(dim_in=len_in, dim_hidden=64, dim_out=args.num_classes)\n",
    "    else:\n",
    "        exit('Error: unrecognized model')\n",
    "\n",
    "    # Set the model to train and send it to device.\n",
    "    global_model.to(device)\n",
    "    global_model.train()\n",
    "    print(global_model)\n",
    "\n",
    "    # copy weights\n",
    "    global_weights = global_model.state_dict()\n",
    "    if len(args.mal_clients) > 0:\n",
    "        mal_X_list, mal_Y, Y_true = get_mal_dataset(test_dataset, args.num_mal, args.num_classes)\n",
    "        print(\"malcious dataset true labels: {}, malicious labels: {}\".format(Y_true, mal_Y))\n",
    "\n",
    "    # Training\n",
    "    train_loss, train_accuracy = [], []\n",
    "    val_acc_list, net_list = [], []\n",
    "    cv_loss, cv_acc = [], []\n",
    "    print_every = 1\n",
    "    val_loss_pre, counter = 0, 0\n",
    "    \n",
    "    confidence = []    \n",
    "    for epoch in tqdm(range(args.epochs)):\n",
    "        local_weights, local_losses = [], []\n",
    "        \n",
    "        print('=========================================')\n",
    "        print(f'| Global Training Round : {epoch+1} |')\n",
    "        print('=========================================')\n",
    "\n",
    "        global_model.train()\n",
    "        m = max(int(args.frac * args.num_users), 1)\n",
    "        idxs_users = np.random.choice(range(args.num_users), m, replace=False)\n",
    "\n",
    "        # flattened weights + bias\n",
    "        flattened_local_weights = []\n",
    "        \n",
    "        # create separate arrays for weights and biases and the offsets \n",
    "        only_weights = [] # for krum to consider only weights, not the biases\n",
    "        only_biases = []\n",
    "            \n",
    "        for idx in range(args.num_users):\n",
    "            mal_user = False\n",
    "            \n",
    "            # alternating benign and malicious training \n",
    "            if idx in args.mal_clients:# and epoch % 2 == 0:\n",
    "                mal_user = True\n",
    "                local_model = LocalUpdate(args=args, dataset=train_dataset, idxs=user_groups[idx], logger=logger, \\\n",
    "                                      mal=mal_user, mal_X=mal_X_list, mal_Y=mal_Y, test_dataset=test_dataset)\n",
    "            else:\n",
    "                local_model = LocalUpdate(args=args, dataset=train_dataset, idxs=user_groups[idx], logger=logger)\n",
    "                \n",
    "            w_prev = global_model.state_dict()\n",
    "            w, loss = local_model.update_weights(model=copy.deepcopy(global_model), global_round=epoch)\n",
    "            # boost the malicious (weight+bias) by alpha\n",
    "            # if mal_user:\n",
    "            #     flat_delta_m = flatten(w) - flatten(w_prev)\n",
    "            #     flat_mal_w = flatten(w_prev) + args.boost * flat_delta_m\n",
    "            #     w = construct_ordered_dict(global_model, torch.tensor(flat_mal_w).to(device))\n",
    "              \n",
    "            # construct two arrays with weights-only and bias-only\n",
    "            if 'krum' in args.aggregation:\n",
    "                for key in w:\n",
    "                    if 'weight' in key:\n",
    "                        if mal_user and epoch % 2 == 0:\n",
    "                            only_weights = np.append(only_weights, args.boost * w[key].detach().cpu().numpy().reshape(-1))\n",
    "                        else:\n",
    "                            only_weights = np.append(only_weights, w[key].detach().cpu().numpy().reshape(-1))\n",
    "                    elif 'bias' in key:\n",
    "                        only_biases = np.append(only_biases, w[key].detach().cpu().numpy().reshape(-1))\n",
    "                            \n",
    "            new_model = copy.deepcopy(global_model)\n",
    "            new_model.load_state_dict(w)\n",
    "            acc, _ = local_model.inference(model=new_model)\n",
    "\n",
    "            if mal_user == True:\n",
    "                mal_acc, mal_loss = local_model.mal_inference(model=new_model)\n",
    "                print('user {}, loss {}, acc {}, mal loss {}, mal acc {}'.format(idx, loss, 100*acc, mal_loss, 100*mal_acc))\n",
    "            else:\n",
    "                print('user {}, loss {}, acc {}'.format(idx, loss, 100*acc))\n",
    "\n",
    "            local_weights.append(copy.deepcopy(w))\n",
    "            local_losses.append(copy.deepcopy(loss))\n",
    "            \n",
    "            # if agg==krum, alternate training\n",
    "            if args.aggregation == 'krum':\n",
    "                if idx in args.mal_clients and epoch %2 ==0:\n",
    "                    flattened_local_weights.append(flatten(w_prev) + args.boost * (flatten(w) - flatten(w_prev)))\n",
    "                else:                     \n",
    "                    flattened_local_weights.append(flatten(w))\n",
    "            else:\n",
    "                # if malicious user: boost the detlta weights\n",
    "                if idx in args.mal_clients:\n",
    "                    flattened_local_weights.append(flatten(w_prev) + args.boost * (flatten(w) - flatten(w_prev)))\n",
    "                else: \n",
    "                    flattened_local_weights.append(flatten(w))\n",
    "        \n",
    "        only_weights = torch.tensor(np.array(only_weights)).to(device)\n",
    "                \n",
    "        flattened_local_weights = torch.tensor(np.array(flattened_local_weights)).to(device)\n",
    "        malicious_grads = flattened_local_weights\n",
    "\n",
    "        n_attacker = len(args.mal_clients)\n",
    "        \n",
    "        \n",
    "        # update global weights\n",
    "        if args.aggregation == 'fedavg':\n",
    "            agg_weights = fedavg(malicious_grads)\n",
    "        elif args.aggregation == 'krum':\n",
    "            agg_weights, selected_idxs = krum(malicious_grads, n_attacker, only_weights=only_weights)\n",
    "            print(f'Krum Selected idx: {selected_idxs}')\n",
    "        elif args.aggregation == 'mkrum':\n",
    "            agg_weights, selected_idxs = multi_krum(malicious_grads, n_attacker, only_weights=only_weights)\n",
    "            print(f'multiKrum Selected idxs: {selected_idxs}')\n",
    "        elif args.aggregation == 'coomed':\n",
    "            agg_weights = coomed(malicious_grads)\n",
    "            print(f'\\ndiff {torch.norm((agg_weights - flattened_local_weights[0])) ** 2}')\n",
    "        elif args.aggregation == 'bulyan':\n",
    "            agg_weights, selected_idxs = bulyan(malicious_grads, n_attacker)\n",
    "            print(f'Bulyan Selected idx: {selected_idxs}')\n",
    "        elif args.aggregation == 'trmean':\n",
    "            agg_weights = tr_mean(malicious_grads, n_attacker)\n",
    "        elif args.aggregation == 'fltrust':\n",
    "            glob_weights = []\n",
    "            glob_weights.append(flatten(w_prev))\n",
    "            agg_weights = fltrust(malicious_grads, glob_weights)\n",
    "            \n",
    "        elif args.aggregation == 'flare':\n",
    "            second_last_layer = list(local_weights[0].keys())[-4]\n",
    "            structured_local_weights = [construct_ordered_dict(global_model, flat_weights) for flat_weights in malicious_grads]\n",
    "            plrs = [(each_local[second_last_layer]) for each_local in structured_local_weights]\n",
    "            agg_weights, count_dict = flare(malicious_grads, plrs)\n",
    "            print(f'flare count_dict: {count_dict}')\n",
    "\n",
    "        elif args.aggregation == 'fedcc':\n",
    "            second_last_layer = list(local_weights[0].keys())[-4]\n",
    "            glob_plr = global_weights[second_last_layer]            \n",
    "            structured_local_weights = [construct_ordered_dict(global_model, flat_weights) for flat_weights in malicious_grads]\n",
    "            plrs = [(each_local[second_last_layer]) for each_local in structured_local_weights]\n",
    "            agg_weights, selected_idxs = fed_cc(malicious_grads, glob_plr, plrs, 'kernel')\n",
    "            print(f'fed_cc Selected idx: {selected_idxs}')\n",
    "        else:\n",
    "            raise ValueError('Unknown aggregation strategy: {}'.format(args.aggregation))\n",
    "\n",
    "\n",
    "        # reshape the flattened global weights into the ordereddict\n",
    "        global_weights = construct_ordered_dict(global_model, agg_weights)\n",
    "        \n",
    "        # update global weights\n",
    "        global_model.load_state_dict(global_weights)\n",
    "\n",
    "        loss_avg = sum(local_losses) / len(local_losses)\n",
    "        train_loss.append(loss_avg)\n",
    "\n",
    "        # print global training loss after every 'i' rounds\n",
    "        if (epoch+1) % print_every == 0:\n",
    "            print(f' \\nAvg Training Stats after {epoch+1} global rounds:')\n",
    "            print(f'Training Loss : {np.mean(np.array(train_loss))}')\n",
    "            \n",
    "            test_acc, test_loss = test_inference(args, global_model, test_dataset)\n",
    "            print('\\nGlobal model Benign Test Accuracy: {:.2f}% '.format(100*test_acc))\n",
    "            \n",
    "            if len(args.mal_clients) > 0:\n",
    "                mal_acc, mal_loss, mal_out = mal_inference(args, global_model, test_dataset, mal_X_list, mal_Y)\n",
    "                print('Global model Malicious Accuracy: {:.2f}%, Malicious Loss: {:.2f}, confidence: {}\\n'.format(100*mal_acc, mal_loss, mal_out))\n",
    "                confidence.append(mal_out[0].item())\n",
    "                \n",
    "    # Test inference after completion of training\n",
    "    test_acc, test_loss = test_inference(args, global_model, test_dataset)\n",
    "\n",
    "    print(f' \\n Results after {args.epochs} global rounds of training:')\n",
    "    print(\"|---- Test Benign Accuracy: {:.2f}%\".format(100*test_acc))\n",
    "    \n",
    "    if len(args.mal_clients) > 0:\n",
    "        mal_acc, mal_loss, mal_out = mal_inference(args, global_model, test_dataset, mal_X_list, mal_Y)\n",
    "        print(\"|---- Test Malicious Accuracy: {:.2f}%, Malicious Loss: {:.2f}, confidence:{}\\n\".format(100*mal_acc, mal_loss, mal_out[0]))\n",
    "    \n",
    "    print('\\n Total Run Time: {0:0.4f}'.format(time.time()-start_time))\n"
   ]
  },
  {
   "cell_type": "code",
   "execution_count": 5,
   "id": "62a2ae0a-965b-47ec-9e1f-ceefe706ce13",
   "metadata": {},
   "outputs": [],
   "source": [
    "from sklearn.metrics.pairwise import cosine_similarity, euclidean_distances\n"
   ]
  },
  {
   "cell_type": "code",
   "execution_count": 6,
   "id": "cac76669-f1d0-4ea9-9816-4ce7ae09b104",
   "metadata": {},
   "outputs": [
    {
     "name": "stdout",
     "output_type": "stream",
     "text": [
      "[[0.9892056]]\n",
      "[[0.98841816]]\n",
      "[[0.98894024]]\n",
      "[[0.9891928]]\n",
      "[[0.9885451]]\n",
      "[[0.9889499]]\n",
      "[[0.9879457]]\n",
      "[[0.9889792]]\n",
      "[[0.98861]]\n",
      "[[0.9883492]]\n"
     ]
    }
   ],
   "source": [
    "for i in range(10):\n",
    "    print(cosine_similarity(glob_weights, malicious_grads[i].detach().cpu().reshape(1,-1)))"
   ]
  },
  {
   "cell_type": "code",
   "execution_count": null,
   "id": "bcda3a20-2321-4637-912f-1cf8e2b6dfe3",
   "metadata": {},
   "outputs": [],
   "source": [
    "only_weights = []\n",
    "for key in global_weights:\n",
    "    if 'weight' in key:\n",
    "        only_weights = np.append(only_weights, global_weights[key].detach().cpu().numpy())\n",
    "_, glob_svd, _, = np.linalg.svd(only_weights.reshape(1,-1))\n",
    "glob_svd"
   ]
  },
  {
   "cell_type": "code",
   "execution_count": null,
   "id": "b4b17f74-9b4f-40eb-886f-1000bf52b110",
   "metadata": {},
   "outputs": [],
   "source": [
    "from sklearn.metrics.pairwise import cosine_similarity, euclidean_distances\n",
    "\n",
    "sim_vals = []\n",
    "glob_plr = glob_plr.detach().cpu()\n",
    "\n",
    "print('euclidean')\n",
    "for i in range(len(plrs)):\n",
    "    val = euclidean_distances(glob_plr.reshape(1, -1), plrs[i].detach().cpu().reshape(1,-1))[0][0]\n",
    "    # print(val)\n",
    "    if np.isnan(val):\n",
    "        sim_vals.append(0)\n",
    "    else:\n",
    "        sim_vals.append(val)\n",
    "print(sim_vals)\n",
    "    "
   ]
  },
  {
   "cell_type": "code",
   "execution_count": null,
   "id": "63086320-b1f9-46ff-aed0-34819c44ab19",
   "metadata": {},
   "outputs": [],
   "source": [
    "from sklearn.metrics.pairwise import cosine_similarity, euclidean_distances, paired_cosine_distances\n",
    "\n",
    "sim_vals = []\n",
    "glob_plr = glob_plr.detach().cpu()\n",
    "\n",
    "print('cosine')\n",
    "for i in range(len(plrs)):\n",
    "    val = cosine_similarity(glob_plr.reshape(1, -1), plrs[i].detach().cpu().reshape(1,-1))[0][0]\n",
    "    if np.isnan(val):\n",
    "        sim_vals.append(0)\n",
    "    else:\n",
    "        sim_vals.append(val)\n",
    "print(sim_vals)\n",
    "    "
   ]
  },
  {
   "cell_type": "code",
   "execution_count": null,
   "id": "1d998913-cbd5-4897-92f2-3d5bb6661a79",
   "metadata": {},
   "outputs": [],
   "source": [
    "global_weights.keys()"
   ]
  },
  {
   "cell_type": "code",
   "execution_count": null,
   "id": "249e5079-8318-48dc-9c60-de72aeef88f6",
   "metadata": {},
   "outputs": [],
   "source": [
    "structured_local_weights = [construct_ordered_dict(global_model, flat_weights) for flat_weights in malicious_grads]\n",
    "\n",
    "conv1_weights = [np.array(w['conv1.weight'].detach().cpu().reshape(-1)) for w in structured_local_weights]\n",
    "conv1_weights = np.array(conv1_weights)\n",
    "conv2_weights = [np.array(w['conv2.weight'].detach().cpu().reshape(-1)) for w in structured_local_weights]\n",
    "conv2_weights = np.array(conv2_weights)\n",
    "conv3_weights = [np.array(w['conv3.weight'].detach().cpu().reshape(-1)) for w in structured_local_weights]\n",
    "conv3_weights = np.array(conv3_weights)\n",
    "fc1_weights = [np.array(w['fc1.weight'].detach().cpu().reshape(-1)) for w in structured_local_weights]\n",
    "fc1_weights = np.array(fc1_weights)\n",
    "fc2_weights = [np.array(w['fc2.weight'].detach().cpu().reshape(-1)) for w in structured_local_weights]\n",
    "fc2_weights = np.array(fc2_weights)\n",
    "\n",
    "num_layers = 5\n",
    "\n",
    "_, s_layer_0, _, = np.linalg.svd(conv1_weights)\n",
    "_, s_layer_1, _, = np.linalg.svd(conv2_weights)\n",
    "_, s_layer_2, _, = np.linalg.svd(conv3_weights)\n",
    "_, s_layer_3, _, = np.linalg.svd(fc1_weights)\n",
    "_, s_layer_4, _, = np.linalg.svd(fc2_weights)\n"
   ]
  },
  {
   "cell_type": "code",
   "execution_count": null,
   "id": "4ae72f18-e639-4408-a741-95151b72caca",
   "metadata": {},
   "outputs": [],
   "source": [
    "%matplotlib inline\n",
    "\n",
    "import matplotlib\n",
    "import matplotlib.pyplot as plt"
   ]
  },
  {
   "cell_type": "code",
   "execution_count": null,
   "id": "ca6d6ead-4de5-4907-b640-037f51e08da7",
   "metadata": {},
   "outputs": [],
   "source": [
    "\n",
    "for x, y in zip(np.arange(num_layers), [s_layer_0, s_layer_1, s_layer_2, s_layer_3, s_layer_4]):\n",
    "    plt.scatter([x]*len(s_layer_0), y, cmap=\"copper\")\n",
    "    for i, txt in enumerate(np.arange(len(s_layer_0))):\n",
    "        plt.annotate(txt, (x, y[i]))\n",
    "    \n",
    "plt.xticks(np.arange(num_layers))\n",
    "plt.show()"
   ]
  },
  {
   "cell_type": "code",
   "execution_count": null,
   "id": "f0dd88e6-ccbc-463e-8502-8364fd57a476",
   "metadata": {},
   "outputs": [],
   "source": [
    "from scipy.cluster.hierarchy import dendrogram, linkage\n",
    "\n",
    "linkage_data = linkage(conv1_weights, method='single', metric='correlation')\n",
    "dendrogram(linkage_data)['dcoord']\n",
    "plt.title('Targeted-NIID: layer1')\n",
    "\n",
    "# plt.show()"
   ]
  },
  {
   "cell_type": "code",
   "execution_count": null,
   "id": "131e212a-0411-4bd5-a0c8-a8811f3b09a2",
   "metadata": {},
   "outputs": [],
   "source": [
    "\n",
    "linkage_data = linkage(conv2_weights, method='single', metric='correlation')\n",
    "dendrogram(linkage_data)['dcoord']\n",
    "plt.title('Targeted-NIID: layer2')\n",
    "\n",
    "# plt.show()"
   ]
  },
  {
   "cell_type": "code",
   "execution_count": null,
   "id": "dbddb776-55aa-47e1-a710-1b3801e338e1",
   "metadata": {},
   "outputs": [],
   "source": [
    "\n",
    "linkage_data = linkage(conv3_weights, method='single', metric='correlation')\n",
    "dendrogram(linkage_data)['dcoord']\n",
    "plt.title('Targeted-NIID: layer3')\n",
    "\n",
    "# plt.show()"
   ]
  },
  {
   "cell_type": "code",
   "execution_count": null,
   "id": "2d785aca-b39b-45d9-a812-406235b4ace3",
   "metadata": {},
   "outputs": [],
   "source": [
    "\n",
    "linkage_data = linkage(fc1_weights, method='single', metric='correlation')\n",
    "dendrogram(linkage_data)['dcoord']\n",
    "plt.title('Targeted-NIID: PLR')\n",
    "\n",
    "# plt.show()"
   ]
  },
  {
   "cell_type": "code",
   "execution_count": null,
   "id": "91c3a20f-0f1a-45d8-8942-aa1916f9f73e",
   "metadata": {},
   "outputs": [],
   "source": [
    "\n",
    "linkage_data = linkage(fc2_weights, method='single', metric='correlation')\n",
    "dendrogram(linkage_data)['dcoord']\n",
    "plt.title('Targeted-NIID: layer5')\n",
    "\n",
    "# plt.show()"
   ]
  },
  {
   "cell_type": "code",
   "execution_count": null,
   "id": "e8c78f9d-cc6c-459d-8758-2404a5d83454",
   "metadata": {},
   "outputs": [],
   "source": []
  },
  {
   "cell_type": "code",
   "execution_count": null,
   "id": "76f5e286-f726-4044-95fb-ec25b21ab4d7",
   "metadata": {},
   "outputs": [],
   "source": []
  },
  {
   "cell_type": "code",
   "execution_count": null,
   "id": "cead0e8a-557b-4b3e-8d97-af9370d31ee9",
   "metadata": {},
   "outputs": [],
   "source": []
  },
  {
   "cell_type": "code",
   "execution_count": null,
   "id": "f8437cfc-68ed-48fc-8d82-9fc9bdfb4288",
   "metadata": {},
   "outputs": [],
   "source": []
  },
  {
   "cell_type": "code",
   "execution_count": null,
   "id": "ce88f315-00f2-4d04-87de-8acc99e07788",
   "metadata": {},
   "outputs": [],
   "source": []
  },
  {
   "cell_type": "code",
   "execution_count": null,
   "id": "66663c2d-4265-4388-ac5c-715ee748a4c4",
   "metadata": {},
   "outputs": [],
   "source": [
    "# structured_local_weights = [construct_ordered_dict(global_model, flat_weights) for flat_weights in malicious_grads]\n",
    "\n",
    "# conv1_weights = [np.array(w['conv1.weight'].detach().cpu().reshape(-1)) for w in structured_local_weights]\n",
    "# conv1_weights = np.array(conv1_weights)\n",
    "# conv2_weights = [np.array(w['conv2.weight'].detach().cpu().reshape(-1)) for w in structured_local_weights]\n",
    "# conv2_weights = np.array(conv2_weights)\n",
    "# fc1_weights = [np.array(w['fc1.weight'].detach().cpu().reshape(-1)) for w in structured_local_weights]\n",
    "# fc1_weights = np.array(fc1_weights)\n",
    "# fc2_weights = [np.array(w['fc2.weight'].detach().cpu().reshape(-1)) for w in structured_local_weights]\n",
    "# fc2_weights = np.array(fc2_weights)\n",
    "# fc3_weights = [np.array(w['fc3.weight'].detach().cpu().reshape(-1)) for w in structured_local_weights]\n",
    "# fc3_weights = np.array(fc3_weights)\n",
    "\n",
    "# num_layers = 5\n",
    "\n",
    "# _, s_layer_0, _, = np.linalg.svd(conv1_weights)\n",
    "# _, s_layer_1, _, = np.linalg.svd(conv2_weights)\n",
    "# _, s_layer_2, _, = np.linalg.svd(fc1_weights)\n",
    "# _, s_layer_3, _, = np.linalg.svd(fc2_weights)\n",
    "# _, s_layer_4, _, = np.linalg.svd(fc3_weights)\n"
   ]
  },
  {
   "cell_type": "code",
   "execution_count": null,
   "id": "14b3e820-c2be-48cc-b2da-f05321c4162e",
   "metadata": {},
   "outputs": [],
   "source": [
    "# from matplotlib import pyplot as plt\n",
    "\n",
    "# for x, y in zip(np.arange(num_layers-1), [s_layer_0, s_layer_1, s_layer_3, s_layer_4]):\n",
    "#     plt.scatter([x]*len(s_layer_0), y, cmap=\"copper\")\n",
    "#     for i, txt in enumerate(np.arange(len(s_layer_0))):\n",
    "#         plt.annotate(txt, (x, y[i]))\n",
    "    \n",
    "# plt.xticks(np.arange(num_layers))\n",
    "# plt.show()"
   ]
  },
  {
   "cell_type": "code",
   "execution_count": null,
   "id": "c506c011-6105-4c3e-8c2c-d49c25ba4b3a",
   "metadata": {},
   "outputs": [],
   "source": [
    "# if len(args.mal_users) > 0:\n",
    "#     import csv\n",
    "#     if args.iid:\n",
    "#         filename = 'Confidence_2IID_'+args.dataset+'_'+args.aggregation+'.csv'\n",
    "#     else:\n",
    "#         filename = 'Confidence_2NIID_'+args.dataset+'_'+args.aggregation+'.csv'\n",
    "\n",
    "#     with open(filename, mode='w', newline='') as csvfile:\n",
    "#         w = csv.writer(csvfile)\n",
    "#         w.writerows(map(lambda x: [x], confidence))\n",
    "\n"
   ]
  },
  {
   "cell_type": "code",
   "execution_count": null,
   "id": "9bdac6fe-33d4-483e-97a8-3c6492435ccd",
   "metadata": {},
   "outputs": [],
   "source": [
    "from utils import get_mal_dataset_of_class\n",
    "\n",
    "test_mal_X_list, test_mal_Y, test_Y_true = get_mal_dataset_of_class(test_dataset, args.num_mal*100, Y_true, mal_Y)\n",
    "flat_test_mal_Y = np.hstack([y for y in test_mal_Y])\n",
    "mal_acc, mal_loss, mal_out = mal_inference(args, global_model, test_dataset, test_mal_X_list, flat_test_mal_Y)\n",
    "\n"
   ]
  },
  {
   "cell_type": "code",
   "execution_count": null,
   "id": "36bd663b-a50f-4009-b8bb-6d649683eefe",
   "metadata": {},
   "outputs": [],
   "source": [
    "mal_acc, mal_loss, torch.mean(mal_out)"
   ]
  },
  {
   "cell_type": "code",
   "execution_count": null,
   "id": "26323f6a-6e52-4e2e-901c-ffeb1c2d2f19",
   "metadata": {},
   "outputs": [],
   "source": [
    "args.dataset, args.boost"
   ]
  },
  {
   "cell_type": "code",
   "execution_count": null,
   "id": "2399b8e9-1931-4681-a07a-8e9e5a692ec2",
   "metadata": {},
   "outputs": [],
   "source": [
    "exp_details(args)\n"
   ]
  },
  {
   "cell_type": "code",
   "execution_count": null,
   "id": "11d4c375-638b-44ec-99b1-ee0de7e75a7e",
   "metadata": {},
   "outputs": [],
   "source": [
    "##### # PLOTTING (optional)\n",
    "import matplotlib\n",
    "import matplotlib.pyplot as plt\n",
    "matplotlib.use('Agg')\n",
    "\n",
    "# Plot Loss curve\n",
    "plt.figure()\n",
    "plt.title('Training Loss vs Communication rounds')\n",
    "plt.plot(range(len(train_loss)), train_loss, color='r')\n",
    "plt.ylabel('Training loss')\n",
    "plt.xlabel('Communication Rounds')\n",
    "plt.savefig('../save/fed_{}_{}_{}_C[{}]_iid[{}]_E[{}]_B[{}]_loss.png'.\n",
    "            format(args.dataset, args.model, args.epochs, args.frac,\n",
    "                   args.iid, args.local_ep, args.local_bs))\n",
    "\n",
    "# Plot Average Accuracy vs Communication rounds\n",
    "plt.figure()\n",
    "plt.title('Average Accuracy vs Communication rounds')\n",
    "plt.plot(range(len(train_accuracy)), train_accuracy, color='k')\n",
    "plt.ylabel('Average Accuracy')\n",
    "plt.xlabel('Communication Rounds')\n",
    "plt.savefig('../save/fed_{}_{}_{}_C[{}]_iid[{}]_E[{}]_B[{}]_acc.png'.\n",
    "            format(args.dataset, args.model, args.epochs, args.frac,\n",
    "                   args.iid, args.local_ep, args.local_bs))"
   ]
  }
 ],
 "metadata": {
  "kernelspec": {
   "display_name": "torchgpu",
   "language": "python",
   "name": "torchgpu"
  },
  "language_info": {
   "codemirror_mode": {
    "name": "ipython",
    "version": 3
   },
   "file_extension": ".py",
   "mimetype": "text/x-python",
   "name": "python",
   "nbconvert_exporter": "python",
   "pygments_lexer": "ipython3",
   "version": "3.8.18"
  }
 },
 "nbformat": 4,
 "nbformat_minor": 5
}
